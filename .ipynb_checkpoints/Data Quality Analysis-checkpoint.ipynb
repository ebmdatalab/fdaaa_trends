{
 "cells": [
  {
   "cell_type": "code",
   "execution_count": 1,
   "metadata": {},
   "outputs": [],
   "source": [
    "import pandas as pd\n",
    "from datetime import date"
   ]
  },
  {
   "cell_type": "code",
   "execution_count": null,
   "metadata": {},
   "outputs": [],
   "source": []
  },
  {
   "cell_type": "code",
   "execution_count": null,
   "metadata": {},
   "outputs": [],
   "source": []
  },
  {
   "cell_type": "code",
   "execution_count": null,
   "metadata": {},
   "outputs": [],
   "source": []
  },
  {
   "cell_type": "code",
   "execution_count": null,
   "metadata": {},
   "outputs": [],
   "source": [
    "#use/adapt this to get any other data you need\n",
    "\n",
    "try:\n",
    "    get_ipython\n",
    "    from tqdm import tqdm_notebook as tqdm\n",
    "    %load_ext autoreload\n",
    "    %autoreload 2\n",
    "except NameError:\n",
    "    from tqdm import tqdm\n",
    "\n",
    "headers = ['nct_id', 'study_first_posted']\n",
    "import json\n",
    "import csv\n",
    "\n",
    "def get_data(path):\n",
    "    with open(path, 'r') as ctgov:\n",
    "        lines = ctgov.readlines()\n",
    "        return lines\n",
    "\n",
    "lines = get_data('C:/Users/ndevito/Desktop/FDAAA Implementation Data/Data Quality/clinicaltrials_raw_clincialtrials_json_2019-05-30.csv')\n",
    "\n",
    "from io import StringIO\n",
    "from programs.helper_functions import text_or_none\n",
    "from programs.helper_functions import variable_levels\n",
    "from programs.helper_functions import str_to_date\n",
    "\n",
    "output = StringIO()\n",
    "writer = csv.DictWriter(output, fieldnames=headers)\n",
    "writer.writeheader()\n",
    "for line in tqdm(lines):\n",
    "    j = json.loads(line)\n",
    "    jcs = j['clinical_study']\n",
    "    td = {}\n",
    "    td['nct_id'] = text_or_none(jcs, ['id_info','nct_id'])\n",
    "    td['study_first_posted'] = str_to_date(variable_levels(jcs, 'study_first_posted'))[0]\n",
    "    writer.writerow(td)\n",
    "output.seek(0)\n",
    "may_trial_posted_dates = pd.read_csv(output)\n",
    "may_trial_posted_dates.to_csv('may_trial_posted_dates.csv')"
   ]
  },
  {
   "cell_type": "markdown",
   "metadata": {},
   "source": [
    "Just run this instead of the above after running it once"
   ]
  },
  {
   "cell_type": "code",
   "execution_count": 2,
   "metadata": {},
   "outputs": [],
   "source": [
    "may_trial_posted_dates = pd.read_csv('may_trial_posted_dates.csv')"
   ]
  },
  {
   "cell_type": "code",
   "execution_count": 3,
   "metadata": {},
   "outputs": [],
   "source": [
    "apr_1 = pd.read_csv('Data Quality/applicable_trials_2019-04-01.csv', low_memory=False)\n",
    "may_30 = pd.read_csv('Data Quality/applicable_trials_2019-05-30.csv', low_memory=False)"
   ]
  },
  {
   "cell_type": "code",
   "execution_count": 4,
   "metadata": {},
   "outputs": [],
   "source": [
    "cols = ['nct_id', 'results_due', 'has_results', 'pending_results','pending_data','has_certificate', 'available_completion_date']"
   ]
  },
  {
   "cell_type": "code",
   "execution_count": 5,
   "metadata": {},
   "outputs": [],
   "source": [
    "filt_apr = apr_1[cols].reset_index(drop = True)\n",
    "filt_may = may_30[cols].reset_index(drop = True)"
   ]
  },
  {
   "cell_type": "code",
   "execution_count": 6,
   "metadata": {},
   "outputs": [],
   "source": [
    "filt_apr['available_completion_date'] = pd.to_datetime(filt_apr['available_completion_date'])\n",
    "filt_may['available_completion_date'] = pd.to_datetime(filt_may['available_completion_date'])"
   ]
  },
  {
   "cell_type": "code",
   "execution_count": 7,
   "metadata": {},
   "outputs": [
    {
     "data": {
      "text/html": [
       "<div>\n",
       "<style scoped>\n",
       "    .dataframe tbody tr th:only-of-type {\n",
       "        vertical-align: middle;\n",
       "    }\n",
       "\n",
       "    .dataframe tbody tr th {\n",
       "        vertical-align: top;\n",
       "    }\n",
       "\n",
       "    .dataframe thead th {\n",
       "        text-align: right;\n",
       "    }\n",
       "</style>\n",
       "<table border=\"1\" class=\"dataframe\">\n",
       "  <thead>\n",
       "    <tr style=\"text-align: right;\">\n",
       "      <th></th>\n",
       "      <th>nct_id</th>\n",
       "      <th>results_due</th>\n",
       "      <th>has_results</th>\n",
       "      <th>pending_results</th>\n",
       "      <th>pending_data</th>\n",
       "      <th>has_certificate</th>\n",
       "      <th>available_completion_date</th>\n",
       "    </tr>\n",
       "  </thead>\n",
       "  <tbody>\n",
       "    <tr>\n",
       "      <th>0</th>\n",
       "      <td>NCT00001305</td>\n",
       "      <td>1</td>\n",
       "      <td>1</td>\n",
       "      <td>0</td>\n",
       "      <td>NaN</td>\n",
       "      <td>0</td>\n",
       "      <td>2017-05-19</td>\n",
       "    </tr>\n",
       "    <tr>\n",
       "      <th>1</th>\n",
       "      <td>NCT00001337</td>\n",
       "      <td>0</td>\n",
       "      <td>0</td>\n",
       "      <td>0</td>\n",
       "      <td>NaN</td>\n",
       "      <td>0</td>\n",
       "      <td>2020-03-31</td>\n",
       "    </tr>\n",
       "    <tr>\n",
       "      <th>2</th>\n",
       "      <td>NCT00001849</td>\n",
       "      <td>0</td>\n",
       "      <td>0</td>\n",
       "      <td>0</td>\n",
       "      <td>NaN</td>\n",
       "      <td>0</td>\n",
       "      <td>2019-12-31</td>\n",
       "    </tr>\n",
       "    <tr>\n",
       "      <th>3</th>\n",
       "      <td>NCT00002663</td>\n",
       "      <td>0</td>\n",
       "      <td>0</td>\n",
       "      <td>0</td>\n",
       "      <td>NaN</td>\n",
       "      <td>0</td>\n",
       "      <td>2019-08-31</td>\n",
       "    </tr>\n",
       "    <tr>\n",
       "      <th>4</th>\n",
       "      <td>NCT00003042</td>\n",
       "      <td>0</td>\n",
       "      <td>0</td>\n",
       "      <td>0</td>\n",
       "      <td>NaN</td>\n",
       "      <td>0</td>\n",
       "      <td>2019-03-31</td>\n",
       "    </tr>\n",
       "  </tbody>\n",
       "</table>\n",
       "</div>"
      ],
      "text/plain": [
       "        nct_id  results_due  has_results  pending_results pending_data  \\\n",
       "0  NCT00001305            1            1                0          NaN   \n",
       "1  NCT00001337            0            0                0          NaN   \n",
       "2  NCT00001849            0            0                0          NaN   \n",
       "3  NCT00002663            0            0                0          NaN   \n",
       "4  NCT00003042            0            0                0          NaN   \n",
       "\n",
       "   has_certificate available_completion_date  \n",
       "0                0                2017-05-19  \n",
       "1                0                2020-03-31  \n",
       "2                0                2019-12-31  \n",
       "3                0                2019-08-31  \n",
       "4                0                2019-03-31  "
      ]
     },
     "execution_count": 7,
     "metadata": {},
     "output_type": "execute_result"
    }
   ],
   "source": [
    "filt_apr.head()"
   ]
  },
  {
   "cell_type": "code",
   "execution_count": 8,
   "metadata": {},
   "outputs": [
    {
     "data": {
      "text/plain": [
       "19580"
      ]
     },
     "execution_count": 8,
     "metadata": {},
     "output_type": "execute_result"
    }
   ],
   "source": [
    "len(filt_apr)"
   ]
  },
  {
   "cell_type": "code",
   "execution_count": 9,
   "metadata": {},
   "outputs": [
    {
     "data": {
      "text/plain": [
       "20278"
      ]
     },
     "execution_count": 9,
     "metadata": {},
     "output_type": "execute_result"
    }
   ],
   "source": [
    "len(filt_may)"
   ]
  },
  {
   "cell_type": "code",
   "execution_count": 10,
   "metadata": {
    "scrolled": true
   },
   "outputs": [],
   "source": [
    "not_due_apr = filt_apr[filt_apr.results_due == 0]\n",
    "due_apr = filt_apr[filt_apr.results_due == 1]\n",
    "not_due_may = filt_may[filt_may.results_due == 0]\n",
    "due_may = filt_may[filt_may.results_due == 1]\n",
    "due_reported_apr = filt_apr[(filt_apr.results_due == 1) & ((filt_apr.has_results == 1) | (filt_apr.pending_results == 1))]\n",
    "due_unreported_apr = filt_apr[(filt_apr.results_due == 1) & ((filt_apr.has_results == 0) & (filt_apr.pending_results == 0))]\n",
    "due_reported_may = filt_may[(filt_may.results_due == 1) & ((filt_may.has_results == 1) | (filt_may.pending_results == 1))]\n",
    "due_unreported_may = filt_may[(filt_may.results_due == 1) & ((filt_may.has_results == 0) & (filt_may.pending_results == 0))]"
   ]
  },
  {
   "cell_type": "code",
   "execution_count": 11,
   "metadata": {},
   "outputs": [
    {
     "data": {
      "text/plain": [
       "166"
      ]
     },
     "execution_count": 11,
     "metadata": {},
     "output_type": "execute_result"
    }
   ],
   "source": [
    "#only in the April dataset (i.e No Longer Covered)\n",
    "\n",
    "only_apr = filt_apr[['nct_id']].merge(filt_may[['nct_id']], how='left', on='nct_id', indicator=True)\n",
    "only_apr = only_apr[only_apr._merge == 'left_only']\n",
    "only_apr.drop('_merge', axis=1, inplace=True)\n",
    "len(only_apr)"
   ]
  },
  {
   "cell_type": "code",
   "execution_count": 12,
   "metadata": {},
   "outputs": [
    {
     "data": {
      "text/plain": [
       "864"
      ]
     },
     "execution_count": 12,
     "metadata": {},
     "output_type": "execute_result"
    }
   ],
   "source": [
    "#only in the May dataset (i.e. Newly Covered)\n",
    "\n",
    "only_may = filt_may[['nct_id']].merge(filt_apr[['nct_id']], how='left', on='nct_id', indicator=True)\n",
    "only_may = only_may[only_may._merge == 'left_only']\n",
    "only_may.drop('_merge', axis=1, inplace=True)\n",
    "len(only_may)"
   ]
  },
  {
   "cell_type": "code",
   "execution_count": 13,
   "metadata": {},
   "outputs": [],
   "source": [
    "def df_diffs(left, right, filter_1, filter_2, filt='left_only'):\n",
    "    if filter_1 is not None:\n",
    "        left = left[filter_1]\n",
    "    if filter_2 is not None:\n",
    "        right = right[filter_2]\n",
    "    merged_df = left[['nct_id']].merge(right, on='nct_id', how='left', indicator=True)\n",
    "    only_diffs = merged_df[merged_df._merge==filt].drop('_merge', axis=1).reset_index(drop=True)\n",
    "    return only_diffs"
   ]
  },
  {
   "cell_type": "code",
   "execution_count": 14,
   "metadata": {},
   "outputs": [
    {
     "data": {
      "text/plain": [
       "11"
      ]
     },
     "execution_count": 14,
     "metadata": {},
     "output_type": "execute_result"
    }
   ],
   "source": [
    "#Apr Due Reported to May Not Covered\n",
    "adr_mnc = df_diffs(due_reported_apr, only_apr, None, None, filt='both')\n",
    "len(adr_mnc)"
   ]
  },
  {
   "cell_type": "code",
   "execution_count": 16,
   "metadata": {},
   "outputs": [
    {
     "data": {
      "text/plain": [
       "28"
      ]
     },
     "execution_count": 16,
     "metadata": {},
     "output_type": "execute_result"
    }
   ],
   "source": [
    "#Apr Due Unreported to May Not Covered\n",
    "adu_mnc = df_diffs(due_unreported_apr, only_apr, None, None, filt='both')\n",
    "len(adu_mnc)"
   ]
  },
  {
   "cell_type": "code",
   "execution_count": 18,
   "metadata": {},
   "outputs": [
    {
     "data": {
      "text/plain": [
       "127"
      ]
     },
     "execution_count": 18,
     "metadata": {},
     "output_type": "execute_result"
    }
   ],
   "source": [
    "#Apr Not Due to Not Covered\n",
    "and_mnc = df_diffs(not_due_apr, only_apr, None, None, filt='both')\n",
    "len(and_mnc)"
   ]
  },
  {
   "cell_type": "code",
   "execution_count": 19,
   "metadata": {},
   "outputs": [
    {
     "data": {
      "text/plain": [
       "1726"
      ]
     },
     "execution_count": 19,
     "metadata": {},
     "output_type": "execute_result"
    }
   ],
   "source": [
    "#Apr Due Reported to May Due Reported\n",
    "adr_mdr = df_diffs(due_reported_apr, due_reported_may, None, None, filt='both')\n",
    "len(adr_mdr)"
   ]
  },
  {
   "cell_type": "code",
   "execution_count": 20,
   "metadata": {},
   "outputs": [
    {
     "data": {
      "text/plain": [
       "0"
      ]
     },
     "execution_count": 20,
     "metadata": {},
     "output_type": "execute_result"
    }
   ],
   "source": [
    "#Apr Due Reported to May Due Unreported\n",
    "adr_mdu = df_diffs(due_reported_apr, due_unreported_may, None, None, filt='both')\n",
    "len(adr_mdu)"
   ]
  },
  {
   "cell_type": "code",
   "execution_count": 21,
   "metadata": {},
   "outputs": [
    {
     "data": {
      "text/plain": [
       "1"
      ]
     },
     "execution_count": 21,
     "metadata": {},
     "output_type": "execute_result"
    }
   ],
   "source": [
    "#Apr Due Reported to May Not Due\n",
    "adr_mnd = df_diffs(due_reported_apr, not_due_may, None, None, filt='both')\n",
    "len(adr_mnd)"
   ]
  },
  {
   "cell_type": "code",
   "execution_count": 23,
   "metadata": {},
   "outputs": [
    {
     "data": {
      "text/plain": [
       "50"
      ]
     },
     "execution_count": 23,
     "metadata": {},
     "output_type": "execute_result"
    }
   ],
   "source": [
    "#Apr Due Unreported to May Not Due\n",
    "adu_mnd = df_diffs(due_unreported_apr, not_due_may, None, None, filt='both')\n",
    "len(adu_mnd)"
   ]
  },
  {
   "cell_type": "code",
   "execution_count": 25,
   "metadata": {},
   "outputs": [
    {
     "data": {
      "text/plain": [
       "1007"
      ]
     },
     "execution_count": 25,
     "metadata": {},
     "output_type": "execute_result"
    }
   ],
   "source": [
    "#Apr Due Unreported to May Due Unreported\n",
    "adu_mdu = df_diffs(due_unreported_apr, due_unreported_may, None, None, filt='both')\n",
    "len(adu_mdu)"
   ]
  },
  {
   "cell_type": "code",
   "execution_count": 26,
   "metadata": {},
   "outputs": [
    {
     "data": {
      "text/plain": [
       "144"
      ]
     },
     "execution_count": 26,
     "metadata": {},
     "output_type": "execute_result"
    }
   ],
   "source": [
    "#Apr Due Unreported to May Due Reported\n",
    "adu_mdr = df_diffs(due_unreported_apr, due_reported_may, None, None, filt='both')\n",
    "len(adu_mdr)"
   ]
  },
  {
   "cell_type": "code",
   "execution_count": 29,
   "metadata": {},
   "outputs": [
    {
     "data": {
      "text/plain": [
       "180"
      ]
     },
     "execution_count": 29,
     "metadata": {},
     "output_type": "execute_result"
    }
   ],
   "source": [
    "#Apr Not Due to May Due Reported\n",
    "and_mdr = df_diffs(not_due_apr, due_reported_may, None, None, filt='both')\n",
    "len(and_mdr)"
   ]
  },
  {
   "cell_type": "code",
   "execution_count": 32,
   "metadata": {},
   "outputs": [],
   "source": [
    "and_mdr.to_csv('and_mdr.csv')"
   ]
  },
  {
   "cell_type": "code",
   "execution_count": 30,
   "metadata": {},
   "outputs": [
    {
     "data": {
      "text/plain": [
       "190"
      ]
     },
     "execution_count": 30,
     "metadata": {},
     "output_type": "execute_result"
    }
   ],
   "source": [
    "#Apr Not Due to May Due Unreported\n",
    "and_mdu = df_diffs(not_due_apr, due_unreported_may, None, None, filt='both')\n",
    "len(and_mdu)"
   ]
  },
  {
   "cell_type": "code",
   "execution_count": 31,
   "metadata": {},
   "outputs": [
    {
     "data": {
      "text/plain": [
       "16116"
      ]
     },
     "execution_count": 31,
     "metadata": {},
     "output_type": "execute_result"
    }
   ],
   "source": [
    "#Apr Not Due to May Not Due\n",
    "and_mnd = df_diffs(not_due_apr, not_due_may, None, None, filt='both')\n",
    "len(and_mnd)"
   ]
  },
  {
   "cell_type": "code",
   "execution_count": null,
   "metadata": {},
   "outputs": [],
   "source": []
  },
  {
   "cell_type": "code",
   "execution_count": null,
   "metadata": {},
   "outputs": [],
   "source": []
  },
  {
   "cell_type": "code",
   "execution_count": null,
   "metadata": {},
   "outputs": [],
   "source": []
  },
  {
   "cell_type": "code",
   "execution_count": null,
   "metadata": {},
   "outputs": [],
   "source": []
  },
  {
   "cell_type": "code",
   "execution_count": null,
   "metadata": {},
   "outputs": [],
   "source": []
  },
  {
   "cell_type": "code",
   "execution_count": null,
   "metadata": {},
   "outputs": [],
   "source": [
    "#How many moved from Due Reported to Not Covered?\n",
    "apr_due_reported = filt_apr[(filt_apr.results_due == 1) & ((filt_apr.has_results == 1) | (filt_apr.pending_results == 1))]\n",
    "\n",
    "due_to_not_covered = df_diffs(apr_due_reported, filt_may, None, None)\n",
    "\n",
    "len(due_to_not_covered)"
   ]
  },
  {
   "cell_type": "code",
   "execution_count": null,
   "metadata": {},
   "outputs": [],
   "source": [
    "#how many moved from Due Reported to Not Due\n",
    "\n",
    "may_not_due = filt_may[filt_may.results_due == 0]\n",
    "\n",
    "df_diffs(apr_due_reported, may_not_due, None, None, how='left_only')"
   ]
  },
  {
   "cell_type": "code",
   "execution_count": null,
   "metadata": {},
   "outputs": [],
   "source": [
    "#due reported to not reported\n",
    "may_due_not_reported = filt_may[(filt_may.results_due == 1) & ((filt_may.has_results == 0) & (filt_may.pending_results == 0))]\n",
    "\n",
    "df_diffs(apr_due_reported, may_due_not_reported, None, None, how='right_only')"
   ]
  },
  {
   "cell_type": "code",
   "execution_count": null,
   "metadata": {},
   "outputs": [],
   "source": []
  },
  {
   "cell_type": "code",
   "execution_count": null,
   "metadata": {},
   "outputs": [],
   "source": []
  },
  {
   "cell_type": "code",
   "execution_count": null,
   "metadata": {},
   "outputs": [],
   "source": []
  },
  {
   "cell_type": "code",
   "execution_count": null,
   "metadata": {},
   "outputs": [],
   "source": []
  },
  {
   "cell_type": "code",
   "execution_count": null,
   "metadata": {},
   "outputs": [],
   "source": [
    "diff_not_due = filt_apr[filt_apr.results_due == 0].merge(filt_may[filt_may.results_due == 0].nct_id, on = 'nct_id', how='left', indicator=True)"
   ]
  },
  {
   "cell_type": "code",
   "execution_count": null,
   "metadata": {},
   "outputs": [],
   "source": [
    "only_apr_notdue = diff_not_due[diff_not_due._merge == 'left_only'].reset_index(drop=True)"
   ]
  },
  {
   "cell_type": "code",
   "execution_count": null,
   "metadata": {},
   "outputs": [],
   "source": [
    "len(only_apr_notdue)"
   ]
  },
  {
   "cell_type": "code",
   "execution_count": null,
   "metadata": {},
   "outputs": [],
   "source": [
    "only_apr_notdue.head()"
   ]
  },
  {
   "cell_type": "code",
   "execution_count": null,
   "metadata": {},
   "outputs": [],
   "source": [
    "became_due = only_apr_notdue.merge(filt_may[filt_may.results_due == 1].nct_id, on = 'nct_id')\n",
    "became_due.drop('_merge', axis=1, inplace=True)\n",
    "len(became_due)"
   ]
  },
  {
   "cell_type": "code",
   "execution_count": null,
   "metadata": {},
   "outputs": [],
   "source": [
    "became_due.to_csv('became_due.csv')"
   ]
  },
  {
   "cell_type": "code",
   "execution_count": null,
   "metadata": {},
   "outputs": [],
   "source": [
    "only_apr_notdue.drop('_merge', axis=1, inplace=True)"
   ]
  },
  {
   "cell_type": "code",
   "execution_count": null,
   "metadata": {},
   "outputs": [],
   "source": [
    "became_something_else = only_apr_notdue.merge(became_due, how='left', indicator=True)\n",
    "became_something_else = became_something_else[became_something_else._merge=='left_only'].drop('_merge', axis=1)"
   ]
  },
  {
   "cell_type": "code",
   "execution_count": null,
   "metadata": {},
   "outputs": [],
   "source": [
    "became_something_else[['nct_id']].merge(may_30, on='nct_id', how='left', indicator=True).to_csv('test.csv')"
   ]
  },
  {
   "cell_type": "code",
   "execution_count": null,
   "metadata": {},
   "outputs": [],
   "source": [
    "leftover = became_something_else['nct_id'].values.tolist()"
   ]
  },
  {
   "cell_type": "code",
   "execution_count": null,
   "metadata": {},
   "outputs": [],
   "source": []
  },
  {
   "cell_type": "code",
   "execution_count": null,
   "metadata": {},
   "outputs": [],
   "source": [
    "only_apr_notdue = df_diffs(filt_apr, filt_may, filt_apr.results_due == 0, filt_may.results_due == 0)\n",
    "len(only_apr_notdue)"
   ]
  },
  {
   "cell_type": "code",
   "execution_count": null,
   "metadata": {},
   "outputs": [],
   "source": [
    "became_due = only_apr_notdue.merge(filt_may[filt_may.results_due == 1].nct_id, on = 'nct_id')\n",
    "became_due = became_due[['nct_id']].merge(filt_may, on='nct_id')\n",
    "len(became_due)"
   ]
  },
  {
   "cell_type": "code",
   "execution_count": null,
   "metadata": {},
   "outputs": [],
   "source": []
  },
  {
   "cell_type": "code",
   "execution_count": null,
   "metadata": {},
   "outputs": [],
   "source": [
    "only_may_notdue = df_diffs(filt_may, filt_apr, filt_may.results_due == 0, filt_apr.results_due == 0)\n",
    "only_may_notdue = only_may_notdue[['nct_id']].merge(filt_may, on='nct_id')\n",
    "#load this data from CSV above\n",
    "only_may_notdue = only_may_notdue.merge(may_trial_posted_dates, on='nct_id', how='left')\n",
    "only_may_notdue['study_first_posted'] = pd.to_datetime(only_may_notdue['study_first_posted'])"
   ]
  },
  {
   "cell_type": "code",
   "execution_count": null,
   "metadata": {},
   "outputs": [],
   "source": [
    "only_may_notdue.head()"
   ]
  },
  {
   "cell_type": "code",
   "execution_count": null,
   "metadata": {},
   "outputs": [],
   "source": [
    "newly_registered = only_may_notdue[only_may_notdue.study_first_posted >= pd.Timestamp(2019,4,1)]"
   ]
  },
  {
   "cell_type": "code",
   "execution_count": null,
   "metadata": {},
   "outputs": [],
   "source": [
    "changed_to_become_covered_not_due = only_may_notdue[only_may_notdue.study_first_posted < pd.Timestamp(2019,4,1)]"
   ]
  },
  {
   "cell_type": "code",
   "execution_count": null,
   "metadata": {},
   "outputs": [],
   "source": [
    "due_both = df_diffs(filt_may, filt_apr, filt_may.results_due == 1, filt_apr.results_due == 1, how='both')\n",
    "due_both = due_both.merge(filt_may, on='nct_id', suffixes=('_apr', '_may'))"
   ]
  },
  {
   "cell_type": "code",
   "execution_count": null,
   "metadata": {},
   "outputs": [],
   "source": [
    "newly_due = df_diffs(filt_may, filt_apr, filt_may.results_due == 1, filt_apr.results_due == 0)"
   ]
  },
  {
   "cell_type": "code",
   "execution_count": null,
   "metadata": {},
   "outputs": [],
   "source": [
    "newly_due = newly_due[['nct_id']].merge(filt_may, on='nct_id')\n",
    "newly_due.head()"
   ]
  },
  {
   "cell_type": "code",
   "execution_count": null,
   "metadata": {},
   "outputs": [],
   "source": []
  }
 ],
 "metadata": {
  "kernelspec": {
   "display_name": "Python 3",
   "language": "python",
   "name": "python3"
  },
  "language_info": {
   "codemirror_mode": {
    "name": "ipython",
    "version": 3
   },
   "file_extension": ".py",
   "mimetype": "text/x-python",
   "name": "python",
   "nbconvert_exporter": "python",
   "pygments_lexer": "ipython3",
   "version": "3.7.3"
  }
 },
 "nbformat": 4,
 "nbformat_minor": 2
}
