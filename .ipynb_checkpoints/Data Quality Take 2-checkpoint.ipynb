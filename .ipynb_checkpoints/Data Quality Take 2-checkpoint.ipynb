{
 "cells": [
  {
   "cell_type": "code",
   "execution_count": 1,
   "metadata": {},
   "outputs": [],
   "source": [
    "import pandas as pd\n",
    "import numpy as np\n",
    "from datetime import date\n",
    "import os"
   ]
  },
  {
   "cell_type": "code",
   "execution_count": 2,
   "metadata": {},
   "outputs": [],
   "source": [
    "dfs = ['mar18', 'apr18', 'may18', 'june18', 'jul18', 'aug18', 'sept18', 'oct18', \n",
    "       'nov18', 'dec18', 'jan19', 'feb19', 'mar19', 'apr19', 'may19', 'june19', 'july19', 'aug19', 'sept19']"
   ]
  },
  {
   "cell_type": "code",
   "execution_count": 3,
   "metadata": {},
   "outputs": [],
   "source": [
    "path = 'Processed CSVs'\n",
    "data = os.listdir(path)\n",
    "data.sort()\n",
    "\n",
    "#removing hidden file when analysis is on a Mac\n",
    "if '.DS_Store' in data:\n",
    "    data.remove('.DS_Store')\n",
    "\n",
    "df_dict = {}\n",
    "for df, d in zip(dfs, data):\n",
    "    df_dict[df] = pd.read_csv(os.path.join(path, d), low_memory=False).drop('Unnamed: 0', axis=1)\n",
    "    df_dict[df]['available_completion_date'] = pd.to_datetime(df_dict[df]['available_completion_date'])"
   ]
  },
  {
   "cell_type": "code",
   "execution_count": 4,
   "metadata": {},
   "outputs": [],
   "source": [
    "final_df = pd.DataFrame(columns=['nct_id', 'reported', 'censored', 'dropped_month', 'censor_reason'])"
   ]
  },
  {
   "cell_type": "code",
   "execution_count": 5,
   "metadata": {},
   "outputs": [],
   "source": [
    "#function that defines the cohort\n",
    "\n",
    "def create_cohort(df_name, df_dict, dfs):\n",
    "    i = dfs.index(df_name)\n",
    "    prior_month = df_dict[dfs[i-1]]\n",
    "    this_month = df_dict[df_name]\n",
    "    merged_due = prior_month[prior_month.results_due == 1].merge(this_month[this_month.results_due == 1], \n",
    "                                                                 on='nct_id', how='outer', indicator=True)\n",
    "    cohort = merged_due[merged_due._merge == 'right_only'].reset_index(drop=True)\n",
    "    cohort = cohort[['nct_id']].merge(this_month, on='nct_id', how='left')\n",
    "    return cohort"
   ]
  },
  {
   "cell_type": "code",
   "execution_count": 6,
   "metadata": {},
   "outputs": [],
   "source": [
    "def baseline_data(cohort):\n",
    "    has_results = cohort[cohort.has_results == 1]\n",
    "    list_of_ncts = has_results['nct_id'].tolist()\n",
    "    has_results_list = []\n",
    "    for nct in list_of_ncts:\n",
    "        temp_dict = {}\n",
    "        temp_dict['nct_id'] = nct\n",
    "        temp_dict['reported'] = 1\n",
    "        temp_dict['censored'] = 0\n",
    "        temp_dict['dropped_month'] = 0\n",
    "        temp_dict['censor_reason'] = 'N/A'\n",
    "        has_results_list.append(temp_dict)\n",
    "    return has_results_list"
   ]
  },
  {
   "cell_type": "code",
   "execution_count": 7,
   "metadata": {},
   "outputs": [],
   "source": [
    "#i think what we want this function to return is a big list of all the lists of dicts we want to append\n",
    "#not quite working yet\n",
    "def move_through_months(cohort, cohort_name, df_dict, dfs):\n",
    "    big_list = []\n",
    "    cohort_unreported = cohort[cohort.has_results == 0]\n",
    "    i = dfs.index(cohort_name)\n",
    "    months = dfs[i+1:]\n",
    "    for month in months:\n",
    "        next_month = df_dict[month]\n",
    "        compare = cohort_unreported.merge(next_month, \n",
    "                                          on=['nct_id', 'results_due', 'has_results', 'pending_results', 'has_certificate'], \n",
    "                                          how='inner')\n",
    "        diffs = cohort_unreported[['nct_id']].merge(compare, on='nct_id', how='left', indicator=True)\n",
    "        diffs_only = diffs[diffs._merge == 'left_only']\n",
    "        dropped_trials = diffs_only[['nct_id']].merge(next_month, on='nct_id', how='left')\n",
    "\n",
    "        reported = dropped_trials[(dropped_trials.has_results == 1) | (dropped_trials.pending_results == 1)]\n",
    "        no_longer_due = dropped_trials[dropped_trials.results_due == 0]\n",
    "        no_longer_app = dropped_trials[dropped_trials.results_due.isnull()]\n",
    "        trials_to_append = []\n",
    "        \n",
    "        rep_ncts = reported['nct_id'].tolist()\n",
    "        for nct in rep_ncts:\n",
    "            temp_dict = {}\n",
    "            temp_dict['nct_id'] = nct\n",
    "            temp_dict['reported'] = 1\n",
    "            temp_dict['censored'] = 0\n",
    "            temp_dict['dropped_month'] = months.index(month) + 1\n",
    "            temp_dict['censor_reason'] = 'N/A'\n",
    "            trials_to_append.append(temp_dict)\n",
    "\n",
    "        nla_ncts = no_longer_app['nct_id'].tolist()\n",
    "        for nct in nla_ncts:\n",
    "            temp_dict = {}\n",
    "            temp_dict['nct_id'] = nct\n",
    "            temp_dict['reported'] = 0\n",
    "            temp_dict['censored'] = 1\n",
    "            temp_dict['dropped_month'] = months.index(month) + 1\n",
    "            temp_dict['censor_reason'] = 'No Longer Applicable'\n",
    "            trials_to_append.append(temp_dict)\n",
    "\n",
    "        nld_cert = no_longer_due[no_longer_due.has_certificate == 1]['nct_id'].tolist()\n",
    "        for nct in nld_cert:\n",
    "            temp_dict = {}\n",
    "            temp_dict['nct_id'] = nct\n",
    "            temp_dict['reported'] = 0\n",
    "            temp_dict['censored'] = 1\n",
    "            temp_dict['dropped_month'] = months.index(month) + 1\n",
    "            temp_dict['censor_reason'] = 'Got Certificate of Delay'\n",
    "            trials_to_append.append(temp_dict)\n",
    "\n",
    "        nld_date = no_longer_due[no_longer_due.has_certificate == 0]['nct_id'].tolist()\n",
    "        for nct in nld_date:\n",
    "            temp_dict = {}\n",
    "            temp_dict['nct_id'] = nct\n",
    "            temp_dict['reported'] = 0\n",
    "            temp_dict['censored'] = 1\n",
    "            temp_dict['dropped_month'] = months.index(month) + 1\n",
    "            old_pcd = cohort_unreported.loc[cohort_unreported.nct_id == nct]['available_completion_date'].dt.date.values[0]\n",
    "            new_pcd = no_longer_due.loc[no_longer_due.nct_id == nct]['available_completion_date'].dt.date.values[0]\n",
    "            temp_dict['censor_reason'] = 'Changed PCD from {} to {}'.format(old_pcd, new_pcd)\n",
    "            trials_to_append.append(temp_dict)\n",
    "        \n",
    "        big_list.append(trials_to_append)\n",
    "        cohort_unreported = compare[['nct_id']].merge(df_dict[month], on='nct_id', how='left')\n",
    "        \n",
    "    return big_list"
   ]
  },
  {
   "cell_type": "code",
   "execution_count": 8,
   "metadata": {},
   "outputs": [],
   "source": [
    "def leftover(cohort, final_data, cohort_name, dfs):\n",
    "    i = dfs.index(cohort_name)\n",
    "    months = dfs[i+1:]\n",
    "    df = cohort[['nct_id']].merge(final_df[['nct_id']], on='nct_id', how='left', indicator=True)\n",
    "    leftover = df[df._merge == 'left_only']['nct_id'].tolist()\n",
    "    left_list = []\n",
    "    for nct in leftover:\n",
    "        temp_dict = {}\n",
    "        temp_dict['nct_id'] = nct\n",
    "        temp_dict['reported'] = 0\n",
    "        temp_dict['censored'] = 1\n",
    "        temp_dict['dropped_month'] = len(months)\n",
    "        temp_dict['censor_reason'] = 'End of Follow-up'\n",
    "        left_list.append(temp_dict)\n",
    "    return left_list\n",
    "\n",
    "def make_ints(final_df):\n",
    "    final_df['reported'] = final_df.reported.astype(int)\n",
    "    final_df['censored'] = final_df.censored.astype(int)\n",
    "    final_df['dropped_month'] = final_df.dropped_month.astype(int)\n",
    "    return final_df"
   ]
  },
  {
   "cell_type": "code",
   "execution_count": 9,
   "metadata": {},
   "outputs": [],
   "source": [
    "final_dfs_dict = {}\n",
    "datasets = dfs[2:-1]\n",
    "for d in datasets:\n",
    "    final_df = pd.DataFrame(columns=['nct_id', 'reported', 'censored', 'dropped_month', 'censor_reason'])\n",
    "    cohort = create_cohort(d, df_dict, dfs)\n",
    "    baseline = baseline_data(cohort)\n",
    "    cohort_data = move_through_months(cohort, d, df_dict, dfs)\n",
    "    final_df = final_df.append(baseline, ignore_index=True)\n",
    "    for data in cohort_data:\n",
    "        if data != []:\n",
    "            final_df = final_df.append(data, ignore_index=True)\n",
    "        else:\n",
    "            pass\n",
    "    leftovers = leftover(cohort, final_df, d, dfs)\n",
    "    final_df = final_df.append(leftovers, ignore_index=True)\n",
    "    final_df = make_ints(final_df)\n",
    "    final_dfs_dict[d] = final_df"
   ]
  },
  {
   "cell_type": "code",
   "execution_count": 10,
   "metadata": {},
   "outputs": [],
   "source": [
    "reported = []\n",
    "dropped = []\n",
    "unreported = []\n",
    "\n",
    "for df in final_dfs_dict.values():\n",
    "    reported.append(len(df[df.reported == 1]))\n",
    "    dropped.append(len(df[(df.censored == 1) & (df.censor_reason != 'End of Follow-up')]))\n",
    "    unreported.append(len(df[(df.censored == 1) & (df.censor_reason == 'End of Follow-up')]))\n",
    "    \n",
    "bar_dict = {}\n",
    "bar_dict['reported'] = reported\n",
    "bar_dict['dropped'] = dropped\n",
    "bar_dict['unreported'] = unreported"
   ]
  },
  {
   "cell_type": "code",
   "execution_count": 11,
   "metadata": {},
   "outputs": [],
   "source": [
    "df = pd.DataFrame(bar_dict)"
   ]
  },
  {
   "cell_type": "code",
   "execution_count": 20,
   "metadata": {},
   "outputs": [
    {
     "data": {
      "text/plain": [
       "16"
      ]
     },
     "execution_count": 20,
     "metadata": {},
     "output_type": "execute_result"
    },
    {
     "data": {
      "text/plain": [
       "16"
      ]
     },
     "execution_count": 20,
     "metadata": {},
     "output_type": "execute_result"
    }
   ],
   "source": [
    "len(df)"
   ]
  },
  {
   "cell_type": "code",
   "execution_count": 17,
   "metadata": {},
   "outputs": [
    {
     "data": {
      "image/png": "[encoded data removed]",
      "text/plain": [
       "<Figure size 1080x576 with 1 Axes>"
      ]
     },
     "metadata": {
      "needs_background": "light"
     },
     "output_type": "display_data"
    },
    {
     "data": {
      "image/png": "[encoded data removed]",
      "text/plain": [
       "<Figure size 1080x576 with 1 Axes>"
      ]
     },
     "metadata": {
      "needs_background": "light"
     },
     "output_type": "display_data"
    }
   ],
   "source": [
    "import matplotlib.pyplot as plt\n",
    "r=list(range(0,len(df)))\n",
    "names=list(final_dfs_dict.keys())\n",
    "fig = plt.subplots(figsize=(15,8))\n",
    "plt.bar(r, reported)\n",
    "plt.bar(r, unreported, bottom=reported)\n",
    "plt.bar(r, dropped, bottom=[i+j for i,j in zip(reported, unreported)])\n",
    "\n",
    "plt.xticks(r, names)\n",
    "plt.show()"
   ]
  },
  {
   "cell_type": "code",
   "execution_count": 18,
   "metadata": {},
   "outputs": [
    {
     "name": "stdout",
     "output_type": "stream",
     "text": [
      "[0, 1, 2, 3, 4, 5, 6, 7, 8, 9, 10, 11, 12, 13, 14, 15]\n",
      "[0, 1, 2, 3, 4, 5, 6, 7, 8, 9, 10, 11, 12, 13, 14, 15]\n"
     ]
    }
   ],
   "source": [
    "print(r)"
   ]
  },
  {
   "cell_type": "code",
   "execution_count": null,
   "metadata": {},
   "outputs": [],
   "source": [
    "import numpy as np\n",
    "import matplotlib.pyplot as plt\n",
    "\n",
    "\n",
    "N = 2\n",
    "reported = (m_rep, jun_rep)\n",
    "data_change = (m_drop, june_drop)\n",
    "unreported = (m_unrep, jun_unrep)\n",
    "ind = np.arange(N)    # the x locations for the groups\n",
    "width = 0.35       # the width of the bars: can also be len(x) sequence\n",
    "\n",
    "p1 = plt.bar(ind, reported, width)\n",
    "p2 = plt.bar(ind, womenMeans, width,\n",
    "             bottom=menMeans, yerr=womenStd)\n",
    "\n",
    "plt.ylabel('Scores')\n",
    "plt.title('Scores by group and gender')\n",
    "plt.xticks(ind, ('G1', 'G2', 'G3', 'G4', 'G5'))\n",
    "plt.yticks(np.arange(0, 81, 10))\n",
    "plt.legend((p1[0], p2[0]), ('Men', 'Women'))\n",
    "\n",
    "plt.show()"
   ]
  },
  {
   "cell_type": "code",
   "execution_count": null,
   "metadata": {},
   "outputs": [],
   "source": []
  },
  {
   "cell_type": "code",
   "execution_count": null,
   "metadata": {},
   "outputs": [],
   "source": [
    "final_df_dict"
   ]
  },
  {
   "cell_type": "code",
   "execution_count": null,
   "metadata": {},
   "outputs": [],
   "source": [
    "#stacked bar chart with count of reported, censorsed not end of follow-up, censored end_of_follow_up"
   ]
  },
  {
   "cell_type": "code",
   "execution_count": null,
   "metadata": {},
   "outputs": [],
   "source": []
  },
  {
   "cell_type": "code",
   "execution_count": null,
   "metadata": {},
   "outputs": [],
   "source": [
    "full_df = pd.DataFrame(columns=['nct_id', 'reported', 'censored', 'dropped_month', 'censor_reason'])\n",
    "\n",
    "for df in list(final_dfs_dict.values()):\n",
    "    full_df = full_df.append(df, ignore_index = True)\n",
    "\n",
    "full_df['reported'] = full_df.reported.astype(int)\n",
    "full_df['censored'] = full_df.censored.astype(int)\n",
    "full_df['dropped_month'] = full_df.dropped_month.astype(int)"
   ]
  },
  {
   "cell_type": "code",
   "execution_count": null,
   "metadata": {},
   "outputs": [],
   "source": [
    "full_df['censored_analysis'] = np.where((full_df.censor_reason == 'End of Follow-up') | (full_df.censor_reason == 'N/A'), 0, 1)"
   ]
  },
  {
   "cell_type": "code",
   "execution_count": null,
   "metadata": {},
   "outputs": [],
   "source": [
    "full_df.head()"
   ]
  },
  {
   "cell_type": "code",
   "execution_count": null,
   "metadata": {
    "scrolled": false
   },
   "outputs": [],
   "source": [
    "from lifelines import KaplanMeierFitter\n",
    "from lifelines_fix import add_at_risk_counts\n",
    "import matplotlib.pyplot as plt\n",
    "\n",
    "yticks = list(np.arange(0,1.1,.1))\n",
    "fig = plt.figure(dpi=300)\n",
    "ax = plt.subplot()\n",
    "\n",
    "kmf = KaplanMeierFitter()\n",
    "kmf.fit(full_df.dropped_month, full_df.censored_analysis)\n",
    "#kmf.fit(full_df.dropped_month[full_df.censor_reason != 'N/A'], full_df.censored_analysis[full_df.censor_reason != 'N/A'])\n",
    "ax =  kmf.plot(ci_show=False, yticks=yticks, figsize=(15, 10), grid=True, legend=False, ax=ax, lw=2.5)\n",
    "\n",
    "plt.title(\"Time To Data Update After Becoming Overdue\", pad=20, fontsize=20)\n",
    "plt.ylabel('Survival', labelpad=10, fontsize=14)\n",
    "plt.xlabel('Months From Becoming Due', labelpad=10, fontsize=14)\n",
    "\n",
    "ax.tick_params(labelsize=15)\n",
    "ax.spines['right'].set_visible(False)\n",
    "ax.spines['top'].set_visible(False)\n",
    "add_at_risk_counts(12, kmf, labels=None)\n",
    "\n",
    "plt.show()"
   ]
  },
  {
   "cell_type": "code",
   "execution_count": null,
   "metadata": {},
   "outputs": [],
   "source": [
    "from lifelines import KaplanMeierFitter\n",
    "from lifelines_fix import add_at_risk_counts\n",
    "import matplotlib.pyplot as plt\n",
    "\n",
    "yticks = list(np.arange(0,1.1,.1))\n",
    "fig = plt.figure(dpi=300)\n",
    "ax = plt.subplot()\n",
    "\n",
    "kmf = KaplanMeierFitter()\n",
    "kmf.fit(final_dfs_dict['may18'].dropped_month, final_dfs_dict['may18'].reported)\n",
    "ax =  kmf.plot(ci_show=False, yticks=yticks, figsize=(15, 10), grid=True, legend=False, ax=ax, lw=2.5)\n",
    "\n",
    "plt.title(\"Time To Reporting From Due Date\", pad=20, fontsize=20)\n",
    "plt.ylabel('Reporting', labelpad=10, fontsize=14)\n",
    "plt.xlabel('Months From Becoming Due', labelpad=10, fontsize=14)\n",
    "\n",
    "ax.tick_params(labelsize=15)\n",
    "ax.spines['right'].set_visible(False)\n",
    "ax.spines['top'].set_visible(False)\n",
    "add_at_risk_counts(12, kmf, labels=None)\n",
    "\n",
    "plt.show()"
   ]
  },
  {
   "cell_type": "code",
   "execution_count": null,
   "metadata": {},
   "outputs": [],
   "source": [
    "#So, ideally what would be next would be to cycle through all the months, running them through the cohort\n",
    "#and then graphing them on top of one another"
   ]
  },
  {
   "cell_type": "code",
   "execution_count": null,
   "metadata": {},
   "outputs": [],
   "source": [
    "from lifelines import KaplanMeierFitter\n",
    "from lifelines_fix import add_at_risk_counts\n",
    "import matplotlib.pyplot as plt\n",
    "\n",
    "yticks = list(np.arange(0,1.1,.1))\n",
    "fig = plt.figure(dpi=300)\n",
    "ax = plt.subplot()\n",
    "\n",
    "for d in datasets:\n",
    "    kmf = KaplanMeierFitter()\n",
    "    kmf.fit(final_dfs_dict[d].dropped_month, final_dfs_dict[d].reported, label = d)\n",
    "    ax = kmf.plot(ci_show=False, yticks=yticks, figsize=(15, 10), grid=True, legend=False, ax=ax, lw=1.5)\n",
    "\n",
    "plt.title(\"Time To Reporting From Due Date\", pad=20, fontsize=20)\n",
    "plt.ylabel('Reporting', labelpad=10, fontsize=14)\n",
    "plt.xlabel('Months From Becoming Due', labelpad=10, fontsize=14)\n",
    "\n",
    "ax.tick_params(labelsize=15)\n",
    "ax.spines['right'].set_visible(False)\n",
    "ax.spines['top'].set_visible(False)\n",
    "#add_at_risk_counts(12, kmf)\n",
    "\n",
    "plt.show()"
   ]
  },
  {
   "cell_type": "code",
   "execution_count": null,
   "metadata": {},
   "outputs": [],
   "source": []
  },
  {
   "cell_type": "code",
   "execution_count": null,
   "metadata": {},
   "outputs": [],
   "source": []
  }
 ],
 "metadata": {
  "kernelspec": {
   "display_name": "Python 3",
   "language": "python",
   "name": "python3"
  },
  "language_info": {
   "codemirror_mode": {
    "name": "ipython",
    "version": 3
   },
   "file_extension": ".py",
   "mimetype": "text/x-python",
   "name": "python",
   "nbconvert_exporter": "python",
   "pygments_lexer": "ipython3",
   "version": "3.7.4"
  }
 },
 "nbformat": 4,
 "nbformat_minor": 2
}
