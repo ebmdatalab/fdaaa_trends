{
 "cells": [
  {
   "cell_type": "code",
   "execution_count": null,
   "metadata": {},
   "outputs": [],
   "source": [
    "from datetime import date\n",
    "import pandas as pd\n",
    "from time import time\n",
    "import re\n",
    "import os\n",
    "from pathlib import Path\n",
    "import sys\n",
    "\n",
    "try:\n",
    "    get_ipython\n",
    "    from tqdm import tqdm_notebook as tqdm\n",
    "    %load_ext autoreload\n",
    "    %autoreload 2\n",
    "except NameError:\n",
    "    from tqdm import tqdm\n",
    "\n",
    "cwd = os.getcwd()\n",
    "parent = str(Path(cwd).parents[0])\n",
    "sys.path.append(parent)"
   ]
  },
  {
   "cell_type": "code",
   "execution_count": null,
   "metadata": {},
   "outputs": [],
   "source": [
    "from programs.data_functions import get_data\n",
    "from programs.data_functions import fda_reg\n",
    "from programs.final_df import make_dataframe"
   ]
  },
  {
   "cell_type": "code",
   "execution_count": null,
   "metadata": {},
   "outputs": [],
   "source": [
    "#point to path of this included file as necessary\n",
    "old_fda = 'fdaaa_regulatory_snapshot.csv'\n",
    "fda_reg_dict = fda_reg(old_fda)\n",
    "\n",
    "headers = ['nct_id', 'act_flag', 'included_pact_flag', 'results_due', 'has_results','pending_results', 'pending_data',\n",
    "           'has_certificate', 'late_cert', 'certificate_date', 'primary_completion_date', 'completion_date',\n",
    "           'available_completion_date', 'due_date', 'last_updated_date', 'results_first_submitted_date', \n",
    "           'results_submitted_date_qc', 'results_first_posted_date', 'first_results_submission_any', 'documents', \n",
    "           'sponsor', 'sponsor_type', 'phase', 'location', 'study_status', 'study_type', 'primary_purpose', 'fda_reg_drug', \n",
    "           'fda_reg_device', 'is_fda_regulated', 'discrep_date_status', 'defaulted_date', 'collaborators','start_date', \n",
    "           'used_primary_completion_date', 'defaulted_pcd_flag', 'defaulted_cd_flag']"
   ]
  },
  {
   "cell_type": "code",
   "execution_count": null,
   "metadata": {},
   "outputs": [],
   "source": [
    "start_program = time()\n",
    "scrape_dates = [date(2018,3,15), date(2018,4,16), date(2018,5,15), date(2018,6,15), date(2018,7,16), date(2018,8,13), \n",
    "                date(2018,9,14), date(2018,10,15), date(2018,11,15), date(2018,12,14), date(2019,1,15),\n",
    "                date(2019,2,15), date(2019,3,15), date(2019,4,15), date(2019,5,15),date(2019,6,13), date(2019,7,15), \n",
    "                date(2019,8,15), date(2019,9,16)]\n",
    "\n",
    "\n",
    "regexp = re.compile('\\d{4}-\\d{2}-\\d{2}')\n",
    "\n",
    "#These paths need to point to the raw ClinicalTrials.gov data for the relevant dates. These files are 3-4 GB in size and\n",
    "#therefore cannot easily be shared. They are available at https://osf.io/x8nbv/?view_only=bb862b2519224d2b92d5f166d290103b\n",
    "path = 'C:/Users/ndevito/Desktop/FDAAA Implementation Data/Raw JSON/'\n",
    "files = os.listdir(path)\n",
    "files.sort()\n",
    "\n",
    "#removing hidden file when analysis is on a Mac\n",
    "if '.DS_Store' in files:\n",
    "    files.remove('.DS_Store')\n",
    "\n",
    "file_number = 0\n",
    "for file, scrape_date in zip(tqdm(files), scrape_dates):\n",
    "    file_number += 1\n",
    "    name = re.findall(regexp,file)[0]\n",
    "    lines = get_data(os.path.join(path, file))\n",
    "    df = make_dataframe(tqdm(lines), fda_reg_dict, headers, act_filter=False, scrape_date=scrape_date)\n",
    "    df.to_csv('applicable_trials_' + name + '.csv')  \n",
    "end_program = time()\n",
    "print(\"This took {} Minutes to Run\".format((end_program - start_program) / 60))"
   ]
  }
 ],
 "metadata": {
  "jupytext": {
   "formats": "ipynb,py:light"
  },
  "kernelspec": {
   "display_name": "Python 3",
   "language": "python",
   "name": "python3"
  },
  "language_info": {
   "codemirror_mode": {
    "name": "ipython",
    "version": 3
   },
   "file_extension": ".py",
   "mimetype": "text/x-python",
   "name": "python",
   "nbconvert_exporter": "python",
   "pygments_lexer": "ipython3",
   "version": "3.7.4"
  }
 },
 "nbformat": 4,
 "nbformat_minor": 2
}
