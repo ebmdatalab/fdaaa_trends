{
 "cells": [
  {
   "cell_type": "code",
   "execution_count": 6,
   "metadata": {},
   "outputs": [
    {
     "name": "stdout",
     "output_type": "stream",
     "text": [
      "The autoreload extension is already loaded. To reload it, use:\n",
      "  %reload_ext autoreload\n"
     ]
    }
   ],
   "source": [
    "import pandas as pd\n",
    "from datetime import date\n",
    "import os\n",
    "import sys\n",
    "from pathlib import Path\n",
    "\n",
    "try:\n",
    "    get_ipython\n",
    "    from tqdm import tqdm_notebook as tqdm\n",
    "    %load_ext autoreload\n",
    "    %autoreload 2\n",
    "except NameError:\n",
    "    from tqdm import tqdm\n",
    "\n",
    "cwd = os.getcwd()\n",
    "parent = str(Path(cwd).parents[0])\n",
    "sys.path.append(parent)"
   ]
  },
  {
   "cell_type": "code",
   "execution_count": 13,
   "metadata": {},
   "outputs": [],
   "source": [
    "from programs.data_functions import fda_reg\n",
    "from programs.data_functions import get_data\n",
    "\n",
    "old_fda = 'C:/Users/ndevito/Dropbox/Python projects/FDAAA Projects/FDAAA Trends Paper/fdaaa_regulatory_snapshot.csv'\n",
    "path = 'C:/Users/ndevito/Desktop/FDAAA Implementation Data/Raw JSON/clinicaltrials_raw_clincialtrials_json_2019-09-16.csv'\n",
    "\n",
    "fda_reg_dict = fda_reg(old_fda)\n",
    "lines = get_data(path)\n",
    "\n",
    "headers = ['nct_id', 'results_due', 'has_results', 'pending_results', 'any_results', 'overdue', 'reported_late',\n",
    "          'available_completion_date', 'due_date', 'first_results_submission', 'sponsor', 'sponsor_type', 'sponsor_class', \n",
    "          'industry_collab', 'us_gov_collab', 'phase_cat', 'phase', 'terminated', 'start_year', 'full_completion',\n",
    "          'contains_drug', 'contains_biological', 'contains_device', 'contains_diagnostic', 'contains_radiation',\n",
    "          'contains_combi_product', 'contains_genetic', 'contains_us_loc', 'act_flag', 'included_pact_flag']"
   ]
  },
  {
   "cell_type": "code",
   "execution_count": 14,
   "metadata": {},
   "outputs": [],
   "source": [
    "from programs.make_stata_data import make_row\n",
    "from programs.make_stata_data import make_dataframe"
   ]
  },
  {
   "cell_type": "code",
   "execution_count": 15,
   "metadata": {},
   "outputs": [
    {
     "data": {
      "application/vnd.jupyter.widget-view+json": {
       "model_id": "00bf141dd2d94253b6bb67d501e89186",
       "version_major": 2,
       "version_minor": 0
      },
      "text/plain": [
       "HBox(children=(IntProgress(value=0, max=316342), HTML(value='')))"
      ]
     },
     "metadata": {},
     "output_type": "display_data"
    },
    {
     "name": "stdout",
     "output_type": "stream",
     "text": [
      "\n",
      "Finished. 316342 Trials Processed; Ran in 2 Minutes\n"
     ]
    }
   ],
   "source": [
    "df = make_dataframe(tqdm(lines), fda_reg_dict, headers, act_filter = False, scrape_date = date(2019,9,16))"
   ]
  },
  {
   "cell_type": "code",
   "execution_count": 16,
   "metadata": {},
   "outputs": [],
   "source": [
    "group = df[['nct_id', 'sponsor']].groupby('sponsor', as_index = False).count()\n",
    "group.columns = ['sponsor', 'sponsored_trials']\n",
    "merged = df.merge(group, how='left', on='sponsor')"
   ]
  },
  {
   "cell_type": "code",
   "execution_count": 17,
   "metadata": {},
   "outputs": [],
   "source": [
    "final_df = merged[(merged.act_flag == 1) | (merged.included_pact_flag == 1)].reset_index(drop=True)"
   ]
  },
  {
   "cell_type": "code",
   "execution_count": 18,
   "metadata": {},
   "outputs": [],
   "source": [
    "final_df.to_csv('fdaaa_stata_dataset.csv', index=False)"
   ]
  },
  {
   "cell_type": "code",
   "execution_count": null,
   "metadata": {},
   "outputs": [],
   "source": []
  }
 ],
 "metadata": {
  "jupytext": {
   "formats": "ipynb,py:light"
  },
  "kernelspec": {
   "display_name": "Python 3",
   "language": "python",
   "name": "python3"
  },
  "language_info": {
   "codemirror_mode": {
    "name": "ipython",
    "version": 3
   },
   "file_extension": ".py",
   "mimetype": "text/x-python",
   "name": "python",
   "nbconvert_exporter": "python",
   "pygments_lexer": "ipython3",
   "version": "3.7.5"
  }
 },
 "nbformat": 4,
 "nbformat_minor": 2
}
