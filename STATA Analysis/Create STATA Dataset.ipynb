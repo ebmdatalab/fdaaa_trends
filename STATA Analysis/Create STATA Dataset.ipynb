{
 "cells": [
  {
   "cell_type": "code",
   "execution_count": null,
   "metadata": {},
   "outputs": [],
   "source": [
    "import pandas as pd\n",
    "from datetime import date\n",
    "import os\n",
    "import sys\n",
    "from pathlib import Path\n",
    "\n",
    "try:\n",
    "    get_ipython\n",
    "    from tqdm.notebook import tqdm\n",
    "    %load_ext autoreload\n",
    "    %autoreload 2\n",
    "except NameError:\n",
    "    from tqdm import tqdm\n",
    "\n",
    "#This makes it so you can run the Notebook within the directory even without Docker\n",
    "cwd = os.getcwd()\n",
    "parent = str(Path(cwd).parents[0])\n",
    "sys.path.append(parent)"
   ]
  },
  {
   "cell_type": "code",
   "execution_count": null,
   "metadata": {},
   "outputs": [],
   "source": [
    "from programs.data_functions import fda_reg\n",
    "from programs.data_functions import get_data\n",
    "\n",
    "old_fda = parent + '/Data/fdaaa_regulatory_snapshot.csv'\n",
    "#You can get the raw data here from our OSF page and put it in the Data folder at https://osf.io/x8nbv/\n",
    "path = parent + '/Data/Put Raw Data Here/clinicaltrials_raw_clincialtrials_json_2019-09-16.csv'\n",
    "\n",
    "fda_reg_dict = fda_reg(old_fda)\n",
    "lines = get_data(path)\n",
    "\n",
    "headers = ['nct_id', 'results_due', 'has_results', 'pending_results', 'any_results', 'overdue', 'reported_late',\n",
    "          'available_completion_date', 'due_date', 'first_results_submission', 'sponsor', 'sponsor_type', 'sponsor_class', \n",
    "          'industry_collab', 'us_gov_collab', 'phase_cat', 'phase', 'terminated', 'start_year', 'full_completion',\n",
    "          'contains_drug', 'contains_biological', 'contains_device', 'contains_diagnostic', 'contains_radiation',\n",
    "          'contains_combi_product', 'contains_genetic', 'contains_us_loc', 'act_flag', 'included_pact_flag']"
   ]
  },
  {
   "cell_type": "code",
   "execution_count": null,
   "metadata": {},
   "outputs": [],
   "source": [
    "from programs.make_stata_data import make_row\n",
    "from programs.make_stata_data import make_dataframe"
   ]
  },
  {
   "cell_type": "code",
   "execution_count": null,
   "metadata": {},
   "outputs": [],
   "source": [
    "df = make_dataframe(tqdm(lines), fda_reg_dict, headers, act_filter = False, scrape_date = date(2019,9,16))"
   ]
  },
  {
   "cell_type": "code",
   "execution_count": null,
   "metadata": {},
   "outputs": [],
   "source": [
    "group = df[['nct_id', 'sponsor']].groupby('sponsor', as_index = False).count()\n",
    "group.columns = ['sponsor', 'sponsored_trials']\n",
    "merged = df.merge(group, how='left', on='sponsor')"
   ]
  },
  {
   "cell_type": "code",
   "execution_count": null,
   "metadata": {},
   "outputs": [],
   "source": [
    "final_df = merged[(merged.act_flag == 1) | (merged.included_pact_flag == 1)].reset_index(drop=True)"
   ]
  },
  {
   "cell_type": "code",
   "execution_count": null,
   "metadata": {},
   "outputs": [],
   "source": [
    "final_df.to_csv('fdaaa_stata_dataset.csv', index=False)"
   ]
  },
  {
   "cell_type": "code",
   "execution_count": null,
   "metadata": {},
   "outputs": [],
   "source": []
  }
 ],
 "metadata": {
  "jupytext": {
   "cell_metadata_filter": "all",
   "formats": "ipynb,py:light",
   "notebook_metadata_filter": "all,-language_info"
  },
  "kernelspec": {
   "display_name": "Python 3",
   "language": "python",
   "name": "python3"
  },
  "language_info": {
   "codemirror_mode": {
    "name": "ipython",
    "version": 3
   },
   "file_extension": ".py",
   "mimetype": "text/x-python",
   "name": "python",
   "nbconvert_exporter": "python",
   "pygments_lexer": "ipython3",
   "version": "3.8.1"
  }
 },
 "nbformat": 4,
 "nbformat_minor": 4
}
